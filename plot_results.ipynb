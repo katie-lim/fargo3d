{
 "cells": [
  {
   "cell_type": "code",
   "execution_count": null,
   "metadata": {},
   "outputs": [],
   "source": [
    "from analysis.plot import *\n",
    "from analysis.plot_results import *\n",
    "\n",
    "setupName = \"2j_2j_2s_4a_0pe\""
   ]
  },
  {
   "cell_type": "code",
   "execution_count": null,
   "metadata": {},
   "outputs": [],
   "source": [
    "plotResultsForSimulation(setupName)"
   ]
  },
  {
   "cell_type": "code",
   "execution_count": null,
   "metadata": {},
   "outputs": [],
   "source": [
    "fileName = \"outputs/%s/gasdens11.dat\" % setupName\n",
    "parFile = \"setups/fargo/%s.par\" % setupName\n",
    "logRadialSpacing = True\n",
    "\n",
    "plotPolar(fileName, parFile, logRadialSpacing, logScale=True)"
   ]
  }
 ],
 "metadata": {
  "language_info": {
   "name": "python"
  },
  "orig_nbformat": 4
 },
 "nbformat": 4,
 "nbformat_minor": 2
}
