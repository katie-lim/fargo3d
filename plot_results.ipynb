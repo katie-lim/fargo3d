{
 "cells": [
  {
   "cell_type": "markdown",
   "metadata": {},
   "source": [
    "# Semi-major axes, eccentricities, period ratio"
   ]
  },
  {
   "cell_type": "code",
   "execution_count": null,
   "metadata": {},
   "outputs": [],
   "source": [
    "import plot\n",
    "\n",
    "setupName = \"1j-1j-1s-3a-1pe\"\n",
    "fileNames = [\"outputs/\" + setupName + \"/orbit\" + str(i) + \".dat\" for i in [0, 1]]\n",
    "\n",
    "labels = [\"inner planet\", \"outer planet\"]"
   ]
  },
  {
   "cell_type": "code",
   "execution_count": null,
   "metadata": {},
   "outputs": [],
   "source": [
    "Ni = 0\n",
    "Nf = None\n",
    "\n",
    "plot.plotOrbitalParameter(fileNames, \"semiMajorAxis\", labels, Ni=Ni, Nf=Nf, title=setupName)\n",
    "plot.plotOrbitalParameter(fileNames, \"eccentricity\", labels, Ni=Ni, Nf=Nf, title=setupName)\n",
    "\n",
    "plot.plotPeriodRatio(fileNames, title=setupName)"
   ]
  },
  {
   "cell_type": "markdown",
   "metadata": {},
   "source": [
    "# Resonant angles"
   ]
  },
  {
   "cell_type": "code",
   "execution_count": null,
   "metadata": {},
   "outputs": [],
   "source": [
    "p, q = 1, 1 # 2:1 resonance\n",
    "\n",
    "plot.plotResonantAnglesVsTime(fileNames[0], fileNames[1], p=p, q=q)"
   ]
  }
 ],
 "metadata": {
  "language_info": {
   "name": "python"
  },
  "orig_nbformat": 4
 },
 "nbformat": 4,
 "nbformat_minor": 2
}
